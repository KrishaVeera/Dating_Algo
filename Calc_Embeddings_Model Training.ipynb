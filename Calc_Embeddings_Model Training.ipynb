{
 "cells": [
  {
   "cell_type": "code",
   "execution_count": 1,
   "id": "0545f061-7dbe-4854-a76d-97aec29be817",
   "metadata": {},
   "outputs": [],
   "source": [
    "import pandas as pd"
   ]
  },
  {
   "cell_type": "code",
   "execution_count": 10,
   "id": "9823b9fa-0585-474e-b9e0-76098b9bb227",
   "metadata": {},
   "outputs": [
    {
     "name": "stdout",
     "output_type": "stream",
     "text": [
      "shape: (59946, 31)\n"
     ]
    },
    {
     "data": {
      "text/plain": [
       "['age',\n",
       " 'status',\n",
       " 'sex',\n",
       " 'orientation',\n",
       " 'body_type',\n",
       " 'diet',\n",
       " 'drinks',\n",
       " 'drugs',\n",
       " 'education',\n",
       " 'ethnicity',\n",
       " 'height',\n",
       " 'income',\n",
       " 'job',\n",
       " 'last_online',\n",
       " 'location',\n",
       " 'offspring',\n",
       " 'pets',\n",
       " 'religion',\n",
       " 'sign',\n",
       " 'smokes',\n",
       " 'speaks',\n",
       " 'essay0',\n",
       " 'essay1',\n",
       " 'essay2',\n",
       " 'essay3',\n",
       " 'essay4',\n",
       " 'essay5',\n",
       " 'essay6',\n",
       " 'essay7',\n",
       " 'essay8',\n",
       " 'essay9']"
      ]
     },
     "execution_count": 10,
     "metadata": {},
     "output_type": "execute_result"
    }
   ],
   "source": [
    "df = pd.read_csv(\"okcupid_profiles.csv\")\n",
    "print(\"shape:\", df.shape)\n",
    "df.columns.tolist()"
   ]
  },
  {
   "cell_type": "code",
   "execution_count": 11,
   "id": "55144ed8-5dbc-4065-8906-9a70a9daa7bb",
   "metadata": {},
   "outputs": [
    {
     "data": {
      "text/html": [
       "<div>\n",
       "<style scoped>\n",
       "    .dataframe tbody tr th:only-of-type {\n",
       "        vertical-align: middle;\n",
       "    }\n",
       "\n",
       "    .dataframe tbody tr th {\n",
       "        vertical-align: top;\n",
       "    }\n",
       "\n",
       "    .dataframe thead th {\n",
       "        text-align: right;\n",
       "    }\n",
       "</style>\n",
       "<table border=\"1\" class=\"dataframe\">\n",
       "  <thead>\n",
       "    <tr style=\"text-align: right;\">\n",
       "      <th></th>\n",
       "      <th>0</th>\n",
       "      <th>1</th>\n",
       "      <th>2</th>\n",
       "      <th>3</th>\n",
       "      <th>4</th>\n",
       "    </tr>\n",
       "  </thead>\n",
       "  <tbody>\n",
       "    <tr>\n",
       "      <th>age</th>\n",
       "      <td>22</td>\n",
       "      <td>35</td>\n",
       "      <td>38</td>\n",
       "      <td>23</td>\n",
       "      <td>29</td>\n",
       "    </tr>\n",
       "    <tr>\n",
       "      <th>status</th>\n",
       "      <td>single</td>\n",
       "      <td>single</td>\n",
       "      <td>available</td>\n",
       "      <td>single</td>\n",
       "      <td>single</td>\n",
       "    </tr>\n",
       "    <tr>\n",
       "      <th>sex</th>\n",
       "      <td>m</td>\n",
       "      <td>m</td>\n",
       "      <td>m</td>\n",
       "      <td>m</td>\n",
       "      <td>m</td>\n",
       "    </tr>\n",
       "    <tr>\n",
       "      <th>orientation</th>\n",
       "      <td>straight</td>\n",
       "      <td>straight</td>\n",
       "      <td>straight</td>\n",
       "      <td>straight</td>\n",
       "      <td>straight</td>\n",
       "    </tr>\n",
       "    <tr>\n",
       "      <th>body_type</th>\n",
       "      <td>a little extra</td>\n",
       "      <td>average</td>\n",
       "      <td>thin</td>\n",
       "      <td>thin</td>\n",
       "      <td>athletic</td>\n",
       "    </tr>\n",
       "    <tr>\n",
       "      <th>diet</th>\n",
       "      <td>strictly anything</td>\n",
       "      <td>mostly other</td>\n",
       "      <td>anything</td>\n",
       "      <td>vegetarian</td>\n",
       "      <td>NaN</td>\n",
       "    </tr>\n",
       "    <tr>\n",
       "      <th>drinks</th>\n",
       "      <td>socially</td>\n",
       "      <td>often</td>\n",
       "      <td>socially</td>\n",
       "      <td>socially</td>\n",
       "      <td>socially</td>\n",
       "    </tr>\n",
       "    <tr>\n",
       "      <th>drugs</th>\n",
       "      <td>never</td>\n",
       "      <td>sometimes</td>\n",
       "      <td>NaN</td>\n",
       "      <td>NaN</td>\n",
       "      <td>never</td>\n",
       "    </tr>\n",
       "    <tr>\n",
       "      <th>education</th>\n",
       "      <td>working on college/university</td>\n",
       "      <td>working on space camp</td>\n",
       "      <td>graduated from masters program</td>\n",
       "      <td>working on college/university</td>\n",
       "      <td>graduated from college/university</td>\n",
       "    </tr>\n",
       "    <tr>\n",
       "      <th>ethnicity</th>\n",
       "      <td>asian, white</td>\n",
       "      <td>white</td>\n",
       "      <td>NaN</td>\n",
       "      <td>white</td>\n",
       "      <td>asian, black, other</td>\n",
       "    </tr>\n",
       "    <tr>\n",
       "      <th>height</th>\n",
       "      <td>75.0</td>\n",
       "      <td>70.0</td>\n",
       "      <td>68.0</td>\n",
       "      <td>71.0</td>\n",
       "      <td>66.0</td>\n",
       "    </tr>\n",
       "    <tr>\n",
       "      <th>income</th>\n",
       "      <td>-1</td>\n",
       "      <td>80000</td>\n",
       "      <td>-1</td>\n",
       "      <td>20000</td>\n",
       "      <td>-1</td>\n",
       "    </tr>\n",
       "    <tr>\n",
       "      <th>job</th>\n",
       "      <td>transportation</td>\n",
       "      <td>hospitality / travel</td>\n",
       "      <td>NaN</td>\n",
       "      <td>student</td>\n",
       "      <td>artistic / musical / writer</td>\n",
       "    </tr>\n",
       "    <tr>\n",
       "      <th>last_online</th>\n",
       "      <td>2012-06-28-20-30</td>\n",
       "      <td>2012-06-29-21-41</td>\n",
       "      <td>2012-06-27-09-10</td>\n",
       "      <td>2012-06-28-14-22</td>\n",
       "      <td>2012-06-27-21-26</td>\n",
       "    </tr>\n",
       "    <tr>\n",
       "      <th>location</th>\n",
       "      <td>south san francisco, california</td>\n",
       "      <td>oakland, california</td>\n",
       "      <td>san francisco, california</td>\n",
       "      <td>berkeley, california</td>\n",
       "      <td>san francisco, california</td>\n",
       "    </tr>\n",
       "    <tr>\n",
       "      <th>offspring</th>\n",
       "      <td>doesn't have kids, but might want them</td>\n",
       "      <td>doesn't have kids, but might want them</td>\n",
       "      <td>NaN</td>\n",
       "      <td>doesn't want kids</td>\n",
       "      <td>NaN</td>\n",
       "    </tr>\n",
       "    <tr>\n",
       "      <th>pets</th>\n",
       "      <td>likes dogs and likes cats</td>\n",
       "      <td>likes dogs and likes cats</td>\n",
       "      <td>has cats</td>\n",
       "      <td>likes cats</td>\n",
       "      <td>likes dogs and likes cats</td>\n",
       "    </tr>\n",
       "    <tr>\n",
       "      <th>religion</th>\n",
       "      <td>agnosticism and very serious about it</td>\n",
       "      <td>agnosticism but not too serious about it</td>\n",
       "      <td>NaN</td>\n",
       "      <td>NaN</td>\n",
       "      <td>NaN</td>\n",
       "    </tr>\n",
       "    <tr>\n",
       "      <th>sign</th>\n",
       "      <td>gemini</td>\n",
       "      <td>cancer</td>\n",
       "      <td>pisces but it doesn&amp;rsquo;t matter</td>\n",
       "      <td>pisces</td>\n",
       "      <td>aquarius</td>\n",
       "    </tr>\n",
       "    <tr>\n",
       "      <th>smokes</th>\n",
       "      <td>sometimes</td>\n",
       "      <td>no</td>\n",
       "      <td>no</td>\n",
       "      <td>no</td>\n",
       "      <td>no</td>\n",
       "    </tr>\n",
       "    <tr>\n",
       "      <th>speaks</th>\n",
       "      <td>english</td>\n",
       "      <td>english (fluently), spanish (poorly), french (...</td>\n",
       "      <td>english, french, c++</td>\n",
       "      <td>english, german (poorly)</td>\n",
       "      <td>english</td>\n",
       "    </tr>\n",
       "    <tr>\n",
       "      <th>essay0</th>\n",
       "      <td>about me:  i would love to think that i was so...</td>\n",
       "      <td>i am a chef: this is what that means. 1. i am ...</td>\n",
       "      <td>i'm not ashamed of much, but writing public te...</td>\n",
       "      <td>i work in a library and go to school. . .</td>\n",
       "      <td>hey how's it going? currently vague on the pro...</td>\n",
       "    </tr>\n",
       "    <tr>\n",
       "      <th>essay1</th>\n",
       "      <td>currently working as an international agent fo...</td>\n",
       "      <td>dedicating everyday to being an unbelievable b...</td>\n",
       "      <td>i make nerdy software for musicians, artists, ...</td>\n",
       "      <td>reading things written by old dead people</td>\n",
       "      <td>work work work work + play</td>\n",
       "    </tr>\n",
       "    <tr>\n",
       "      <th>essay2</th>\n",
       "      <td>making people laugh. ranting about a good salt...</td>\n",
       "      <td>being silly. having ridiculous amonts of fun w...</td>\n",
       "      <td>improvising in different contexts. alternating...</td>\n",
       "      <td>playing synthesizers and organizing books acco...</td>\n",
       "      <td>creating imagery to look at: http://bagsbrown....</td>\n",
       "    </tr>\n",
       "    <tr>\n",
       "      <th>essay3</th>\n",
       "      <td>the way i look. i am a six foot half asian, ha...</td>\n",
       "      <td>NaN</td>\n",
       "      <td>my large jaw and large glasses are the physica...</td>\n",
       "      <td>socially awkward but i do my best</td>\n",
       "      <td>i smile a lot and my inquisitive nature</td>\n",
       "    </tr>\n",
       "    <tr>\n",
       "      <th>essay4</th>\n",
       "      <td>books: absurdistan, the republic, of mice and ...</td>\n",
       "      <td>i am die hard christopher moore fan. i don't r...</td>\n",
       "      <td>okay this is where the cultural matrix gets so...</td>\n",
       "      <td>bataille, celine, beckett. . . lynch, jarmusch...</td>\n",
       "      <td>music: bands, rappers, musicians at the moment...</td>\n",
       "    </tr>\n",
       "    <tr>\n",
       "      <th>essay5</th>\n",
       "      <td>food. water. cell phone. shelter.</td>\n",
       "      <td>delicious porkness in all of its glories. my b...</td>\n",
       "      <td>movement conversation creation contemplation t...</td>\n",
       "      <td>NaN</td>\n",
       "      <td>NaN</td>\n",
       "    </tr>\n",
       "    <tr>\n",
       "      <th>essay6</th>\n",
       "      <td>duality and humorous things</td>\n",
       "      <td>NaN</td>\n",
       "      <td>NaN</td>\n",
       "      <td>cats and german philosophy</td>\n",
       "      <td>NaN</td>\n",
       "    </tr>\n",
       "    <tr>\n",
       "      <th>essay7</th>\n",
       "      <td>trying to find someone to hang out with. i am ...</td>\n",
       "      <td>NaN</td>\n",
       "      <td>viewing. listening. dancing. talking. drinking...</td>\n",
       "      <td>NaN</td>\n",
       "      <td>NaN</td>\n",
       "    </tr>\n",
       "    <tr>\n",
       "      <th>essay8</th>\n",
       "      <td>i am new to california and looking for someone...</td>\n",
       "      <td>i am very open and will share just about anyth...</td>\n",
       "      <td>when i was five years old, i was known as \"the...</td>\n",
       "      <td>NaN</td>\n",
       "      <td>NaN</td>\n",
       "    </tr>\n",
       "    <tr>\n",
       "      <th>essay9</th>\n",
       "      <td>you want to be swept off your feet! you are ti...</td>\n",
       "      <td>NaN</td>\n",
       "      <td>you are bright, open, intense, silly, ironic, ...</td>\n",
       "      <td>you feel so inclined.</td>\n",
       "      <td>NaN</td>\n",
       "    </tr>\n",
       "  </tbody>\n",
       "</table>\n",
       "</div>"
      ],
      "text/plain": [
       "                                                             0  \\\n",
       "age                                                         22   \n",
       "status                                                  single   \n",
       "sex                                                          m   \n",
       "orientation                                           straight   \n",
       "body_type                                       a little extra   \n",
       "diet                                         strictly anything   \n",
       "drinks                                                socially   \n",
       "drugs                                                    never   \n",
       "education                        working on college/university   \n",
       "ethnicity                                         asian, white   \n",
       "height                                                    75.0   \n",
       "income                                                      -1   \n",
       "job                                             transportation   \n",
       "last_online                                   2012-06-28-20-30   \n",
       "location                       south san francisco, california   \n",
       "offspring               doesn't have kids, but might want them   \n",
       "pets                                 likes dogs and likes cats   \n",
       "religion                 agnosticism and very serious about it   \n",
       "sign                                                    gemini   \n",
       "smokes                                               sometimes   \n",
       "speaks                                                 english   \n",
       "essay0       about me:  i would love to think that i was so...   \n",
       "essay1       currently working as an international agent fo...   \n",
       "essay2       making people laugh. ranting about a good salt...   \n",
       "essay3       the way i look. i am a six foot half asian, ha...   \n",
       "essay4       books: absurdistan, the republic, of mice and ...   \n",
       "essay5                       food. water. cell phone. shelter.   \n",
       "essay6                             duality and humorous things   \n",
       "essay7       trying to find someone to hang out with. i am ...   \n",
       "essay8       i am new to california and looking for someone...   \n",
       "essay9       you want to be swept off your feet! you are ti...   \n",
       "\n",
       "                                                             1  \\\n",
       "age                                                         35   \n",
       "status                                                  single   \n",
       "sex                                                          m   \n",
       "orientation                                           straight   \n",
       "body_type                                              average   \n",
       "diet                                              mostly other   \n",
       "drinks                                                   often   \n",
       "drugs                                                sometimes   \n",
       "education                                working on space camp   \n",
       "ethnicity                                                white   \n",
       "height                                                    70.0   \n",
       "income                                                   80000   \n",
       "job                                       hospitality / travel   \n",
       "last_online                                   2012-06-29-21-41   \n",
       "location                                   oakland, california   \n",
       "offspring               doesn't have kids, but might want them   \n",
       "pets                                 likes dogs and likes cats   \n",
       "religion              agnosticism but not too serious about it   \n",
       "sign                                                    cancer   \n",
       "smokes                                                      no   \n",
       "speaks       english (fluently), spanish (poorly), french (...   \n",
       "essay0       i am a chef: this is what that means. 1. i am ...   \n",
       "essay1       dedicating everyday to being an unbelievable b...   \n",
       "essay2       being silly. having ridiculous amonts of fun w...   \n",
       "essay3                                                     NaN   \n",
       "essay4       i am die hard christopher moore fan. i don't r...   \n",
       "essay5       delicious porkness in all of its glories. my b...   \n",
       "essay6                                                     NaN   \n",
       "essay7                                                     NaN   \n",
       "essay8       i am very open and will share just about anyth...   \n",
       "essay9                                                     NaN   \n",
       "\n",
       "                                                             2  \\\n",
       "age                                                         38   \n",
       "status                                               available   \n",
       "sex                                                          m   \n",
       "orientation                                           straight   \n",
       "body_type                                                 thin   \n",
       "diet                                                  anything   \n",
       "drinks                                                socially   \n",
       "drugs                                                      NaN   \n",
       "education                       graduated from masters program   \n",
       "ethnicity                                                  NaN   \n",
       "height                                                    68.0   \n",
       "income                                                      -1   \n",
       "job                                                        NaN   \n",
       "last_online                                   2012-06-27-09-10   \n",
       "location                             san francisco, california   \n",
       "offspring                                                  NaN   \n",
       "pets                                                  has cats   \n",
       "religion                                                   NaN   \n",
       "sign                        pisces but it doesn&rsquo;t matter   \n",
       "smokes                                                      no   \n",
       "speaks                                    english, french, c++   \n",
       "essay0       i'm not ashamed of much, but writing public te...   \n",
       "essay1       i make nerdy software for musicians, artists, ...   \n",
       "essay2       improvising in different contexts. alternating...   \n",
       "essay3       my large jaw and large glasses are the physica...   \n",
       "essay4       okay this is where the cultural matrix gets so...   \n",
       "essay5       movement conversation creation contemplation t...   \n",
       "essay6                                                     NaN   \n",
       "essay7       viewing. listening. dancing. talking. drinking...   \n",
       "essay8       when i was five years old, i was known as \"the...   \n",
       "essay9       you are bright, open, intense, silly, ironic, ...   \n",
       "\n",
       "                                                             3  \\\n",
       "age                                                         23   \n",
       "status                                                  single   \n",
       "sex                                                          m   \n",
       "orientation                                           straight   \n",
       "body_type                                                 thin   \n",
       "diet                                                vegetarian   \n",
       "drinks                                                socially   \n",
       "drugs                                                      NaN   \n",
       "education                        working on college/university   \n",
       "ethnicity                                                white   \n",
       "height                                                    71.0   \n",
       "income                                                   20000   \n",
       "job                                                    student   \n",
       "last_online                                   2012-06-28-14-22   \n",
       "location                                  berkeley, california   \n",
       "offspring                                    doesn't want kids   \n",
       "pets                                                likes cats   \n",
       "religion                                                   NaN   \n",
       "sign                                                    pisces   \n",
       "smokes                                                      no   \n",
       "speaks                                english, german (poorly)   \n",
       "essay0               i work in a library and go to school. . .   \n",
       "essay1               reading things written by old dead people   \n",
       "essay2       playing synthesizers and organizing books acco...   \n",
       "essay3                       socially awkward but i do my best   \n",
       "essay4       bataille, celine, beckett. . . lynch, jarmusch...   \n",
       "essay5                                                     NaN   \n",
       "essay6                              cats and german philosophy   \n",
       "essay7                                                     NaN   \n",
       "essay8                                                     NaN   \n",
       "essay9                                   you feel so inclined.   \n",
       "\n",
       "                                                             4  \n",
       "age                                                         29  \n",
       "status                                                  single  \n",
       "sex                                                          m  \n",
       "orientation                                           straight  \n",
       "body_type                                             athletic  \n",
       "diet                                                       NaN  \n",
       "drinks                                                socially  \n",
       "drugs                                                    never  \n",
       "education                    graduated from college/university  \n",
       "ethnicity                                  asian, black, other  \n",
       "height                                                    66.0  \n",
       "income                                                      -1  \n",
       "job                                artistic / musical / writer  \n",
       "last_online                                   2012-06-27-21-26  \n",
       "location                             san francisco, california  \n",
       "offspring                                                  NaN  \n",
       "pets                                 likes dogs and likes cats  \n",
       "religion                                                   NaN  \n",
       "sign                                                  aquarius  \n",
       "smokes                                                      no  \n",
       "speaks                                                 english  \n",
       "essay0       hey how's it going? currently vague on the pro...  \n",
       "essay1                              work work work work + play  \n",
       "essay2       creating imagery to look at: http://bagsbrown....  \n",
       "essay3                 i smile a lot and my inquisitive nature  \n",
       "essay4       music: bands, rappers, musicians at the moment...  \n",
       "essay5                                                     NaN  \n",
       "essay6                                                     NaN  \n",
       "essay7                                                     NaN  \n",
       "essay8                                                     NaN  \n",
       "essay9                                                     NaN  "
      ]
     },
     "execution_count": 11,
     "metadata": {},
     "output_type": "execute_result"
    }
   ],
   "source": [
    "df.head(5).T"
   ]
  },
  {
   "cell_type": "code",
   "execution_count": 12,
   "id": "d723aa22-245e-495e-adb8-44e86ec45159",
   "metadata": {},
   "outputs": [
    {
     "data": {
      "text/plain": [
       "offspring      59.3\n",
       "diet           40.7\n",
       "religion       33.7\n",
       "pets           33.2\n",
       "essay8         32.1\n",
       "drugs          23.5\n",
       "essay6         23.0\n",
       "essay9         21.0\n",
       "essay7         20.8\n",
       "essay3         19.1\n",
       "sign           18.4\n",
       "essay5         18.1\n",
       "essay4         17.6\n",
       "essay2         16.1\n",
       "job            13.7\n",
       "essay1         12.6\n",
       "education      11.1\n",
       "ethnicity       9.5\n",
       "smokes          9.2\n",
       "essay0          9.2\n",
       "body_type       8.8\n",
       "drinks          5.0\n",
       "speaks          0.1\n",
       "height          0.0\n",
       "status          0.0\n",
       "location        0.0\n",
       "last_online     0.0\n",
       "income          0.0\n",
       "orientation     0.0\n",
       "sex             0.0\n",
       "age             0.0\n",
       "dtype: float64"
      ]
     },
     "execution_count": 12,
     "metadata": {},
     "output_type": "execute_result"
    }
   ],
   "source": [
    "(df.isna().mean().sort_values(ascending=False) * 100).round(1)"
   ]
  },
  {
   "cell_type": "code",
   "execution_count": 16,
   "id": "a07b6c8e-e1f6-403c-9597-d0ba32613cb3",
   "metadata": {},
   "outputs": [
    {
     "data": {
      "text/html": [
       "<div>\n",
       "<style scoped>\n",
       "    .dataframe tbody tr th:only-of-type {\n",
       "        vertical-align: middle;\n",
       "    }\n",
       "\n",
       "    .dataframe tbody tr th {\n",
       "        vertical-align: top;\n",
       "    }\n",
       "\n",
       "    .dataframe thead th {\n",
       "        text-align: right;\n",
       "    }\n",
       "</style>\n",
       "<table border=\"1\" class=\"dataframe\">\n",
       "  <thead>\n",
       "    <tr style=\"text-align: right;\">\n",
       "      <th></th>\n",
       "      <th>bio_text</th>\n",
       "    </tr>\n",
       "  </thead>\n",
       "  <tbody>\n",
       "    <tr>\n",
       "      <th>0</th>\n",
       "      <td>about me:  i would love to think that i was so...</td>\n",
       "    </tr>\n",
       "    <tr>\n",
       "      <th>1</th>\n",
       "      <td>i am a chef: this is what that means. 1. i am ...</td>\n",
       "    </tr>\n",
       "    <tr>\n",
       "      <th>2</th>\n",
       "      <td>i'm not ashamed of much, but writing public te...</td>\n",
       "    </tr>\n",
       "    <tr>\n",
       "      <th>3</th>\n",
       "      <td>i work in a library and go to school. . . &lt;e&gt; ...</td>\n",
       "    </tr>\n",
       "    <tr>\n",
       "      <th>4</th>\n",
       "      <td>hey how's it going? currently vague on the pro...</td>\n",
       "    </tr>\n",
       "  </tbody>\n",
       "</table>\n",
       "</div>"
      ],
      "text/plain": [
       "                                            bio_text\n",
       "0  about me:  i would love to think that i was so...\n",
       "1  i am a chef: this is what that means. 1. i am ...\n",
       "2  i'm not ashamed of much, but writing public te...\n",
       "3  i work in a library and go to school. . . <e> ...\n",
       "4  hey how's it going? currently vague on the pro..."
      ]
     },
     "execution_count": 16,
     "metadata": {},
     "output_type": "execute_result"
    }
   ],
   "source": [
    "essay_cols = [f\"essay{i}\" for i in range(10)]  # essay0 to essay9\n",
    "\n",
    "# Replace NaNs with empty strings so join works cleanly\n",
    "for col in essay_cols:\n",
    "    df[col] = df[col].fillna(\"\")\n",
    "\n",
    "# Join into one string per row, with a separator\n",
    "df[\"bio_text\"] = df[essay_cols].agg(\" <e> \".join, axis=1)\n",
    "\n",
    "df[[\"bio_text\"]].head(5)\n"
   ]
  },
  {
   "cell_type": "code",
   "execution_count": 17,
   "id": "830b9d20-1da9-4559-b31b-0d015251b181",
   "metadata": {},
   "outputs": [
    {
     "name": "stderr",
     "output_type": "stream",
     "text": [
      "WARNING: You are using pip version 22.0.4; however, version 25.2 is available.\n",
      "You should consider upgrading via the 'C:\\Users\\veera\\AppData\\Local\\Microsoft\\WindowsApps\\PythonSoftwareFoundation.Python.3.9_qbz5n2kfra8p0\\python.exe -m pip install --upgrade pip' command.\n"
     ]
    }
   ],
   "source": [
    "!pip -q install sentence-transformers"
   ]
  },
  {
   "cell_type": "code",
   "execution_count": 18,
   "id": "7652a248-7bf7-46ba-adab-247a06992e09",
   "metadata": {},
   "outputs": [
    {
     "data": {
      "application/vnd.jupyter.widget-view+json": {
       "model_id": "018009d955af4835beaf0e1d2bdfc50a",
       "version_major": 2,
       "version_minor": 0
      },
      "text/plain": [
       "modules.json:   0%|          | 0.00/349 [00:00<?, ?B/s]"
      ]
     },
     "metadata": {},
     "output_type": "display_data"
    },
    {
     "name": "stderr",
     "output_type": "stream",
     "text": [
      "C:\\Users\\veera\\AppData\\Local\\Packages\\PythonSoftwareFoundation.Python.3.9_qbz5n2kfra8p0\\LocalCache\\local-packages\\Python39\\site-packages\\huggingface_hub\\file_download.py:143: UserWarning: `huggingface_hub` cache-system uses symlinks by default to efficiently store duplicated files but your machine does not support them in C:\\Users\\veera\\.cache\\huggingface\\hub\\models--sentence-transformers--all-MiniLM-L6-v2. Caching files will still work but in a degraded version that might require more space on your disk. This warning can be disabled by setting the `HF_HUB_DISABLE_SYMLINKS_WARNING` environment variable. For more details, see https://huggingface.co/docs/huggingface_hub/how-to-cache#limitations.\n",
      "To support symlinks on Windows, you either need to activate Developer Mode or to run Python as an administrator. In order to activate developer mode, see this article: https://docs.microsoft.com/en-us/windows/apps/get-started/enable-your-device-for-development\n",
      "  warnings.warn(message)\n"
     ]
    },
    {
     "data": {
      "application/vnd.jupyter.widget-view+json": {
       "model_id": "43be4c09ff1e4074b9ac372a4943b08e",
       "version_major": 2,
       "version_minor": 0
      },
      "text/plain": [
       "config_sentence_transformers.json:   0%|          | 0.00/116 [00:00<?, ?B/s]"
      ]
     },
     "metadata": {},
     "output_type": "display_data"
    },
    {
     "data": {
      "application/vnd.jupyter.widget-view+json": {
       "model_id": "9a1b61ecc49946edb010ba73a4b0bf9e",
       "version_major": 2,
       "version_minor": 0
      },
      "text/plain": [
       "README.md: 0.00B [00:00, ?B/s]"
      ]
     },
     "metadata": {},
     "output_type": "display_data"
    },
    {
     "data": {
      "application/vnd.jupyter.widget-view+json": {
       "model_id": "eeded9d37a214637b6e6bb612530a061",
       "version_major": 2,
       "version_minor": 0
      },
      "text/plain": [
       "sentence_bert_config.json:   0%|          | 0.00/53.0 [00:00<?, ?B/s]"
      ]
     },
     "metadata": {},
     "output_type": "display_data"
    },
    {
     "data": {
      "application/vnd.jupyter.widget-view+json": {
       "model_id": "5008b79cf7bb455a82381ef96ef3e991",
       "version_major": 2,
       "version_minor": 0
      },
      "text/plain": [
       "config.json:   0%|          | 0.00/612 [00:00<?, ?B/s]"
      ]
     },
     "metadata": {},
     "output_type": "display_data"
    },
    {
     "name": "stderr",
     "output_type": "stream",
     "text": [
      "Xet Storage is enabled for this repo, but the 'hf_xet' package is not installed. Falling back to regular HTTP download. For better performance, install the package with: `pip install huggingface_hub[hf_xet]` or `pip install hf_xet`\n"
     ]
    },
    {
     "data": {
      "application/vnd.jupyter.widget-view+json": {
       "model_id": "1167a5a52bde43af8fe3a636f8c4537f",
       "version_major": 2,
       "version_minor": 0
      },
      "text/plain": [
       "model.safetensors:   0%|          | 0.00/90.9M [00:00<?, ?B/s]"
      ]
     },
     "metadata": {},
     "output_type": "display_data"
    },
    {
     "data": {
      "application/vnd.jupyter.widget-view+json": {
       "model_id": "8622d4b1f3674e3bab57960a60107f9a",
       "version_major": 2,
       "version_minor": 0
      },
      "text/plain": [
       "tokenizer_config.json:   0%|          | 0.00/350 [00:00<?, ?B/s]"
      ]
     },
     "metadata": {},
     "output_type": "display_data"
    },
    {
     "data": {
      "application/vnd.jupyter.widget-view+json": {
       "model_id": "69ee767bad804cd89bb9e19ed3ef947a",
       "version_major": 2,
       "version_minor": 0
      },
      "text/plain": [
       "vocab.txt: 0.00B [00:00, ?B/s]"
      ]
     },
     "metadata": {},
     "output_type": "display_data"
    },
    {
     "data": {
      "application/vnd.jupyter.widget-view+json": {
       "model_id": "d346f9ff932a498c8ab0075949066486",
       "version_major": 2,
       "version_minor": 0
      },
      "text/plain": [
       "tokenizer.json: 0.00B [00:00, ?B/s]"
      ]
     },
     "metadata": {},
     "output_type": "display_data"
    },
    {
     "data": {
      "application/vnd.jupyter.widget-view+json": {
       "model_id": "c7fb0a8ec1374bcc9a0eb9444d4e18c9",
       "version_major": 2,
       "version_minor": 0
      },
      "text/plain": [
       "special_tokens_map.json:   0%|          | 0.00/112 [00:00<?, ?B/s]"
      ]
     },
     "metadata": {},
     "output_type": "display_data"
    },
    {
     "data": {
      "application/vnd.jupyter.widget-view+json": {
       "model_id": "964b98822899469fa91be6ad2b0a3fa1",
       "version_major": 2,
       "version_minor": 0
      },
      "text/plain": [
       "config.json:   0%|          | 0.00/190 [00:00<?, ?B/s]"
      ]
     },
     "metadata": {},
     "output_type": "display_data"
    }
   ],
   "source": [
    "from sentence_transformers import SentenceTransformer\n",
    "import numpy as np\n",
    "\n",
    "model = SentenceTransformer(\"sentence-transformers/all-MiniLM-L6-v2\")"
   ]
  },
  {
   "cell_type": "code",
   "execution_count": 19,
   "id": "801ce26c-c856-4fa5-9105-a5494c136c41",
   "metadata": {},
   "outputs": [],
   "source": [
    "df = df.reset_index().rename(columns={\"index\":\"user_id\"})\n",
    "corpus = df[\"bio_text\"].fillna(\"\").astype(str).str.strip().tolist()"
   ]
  },
  {
   "cell_type": "code",
   "execution_count": 20,
   "id": "c3f47e5e-3bee-4b04-96dd-dc01cb246153",
   "metadata": {},
   "outputs": [
    {
     "data": {
      "application/vnd.jupyter.widget-view+json": {
       "model_id": "ac72e383981c4c3fb3a00868840bcc3e",
       "version_major": 2,
       "version_minor": 0
      },
      "text/plain": [
       "Batches:   0%|          | 0/937 [00:00<?, ?it/s]"
      ]
     },
     "metadata": {},
     "output_type": "display_data"
    }
   ],
   "source": [
    "# normalize_embeddings=True makes vectors unit-length,\n",
    "# so cosine similarity = dot product\n",
    "embeddings = model.encode(\n",
    "    corpus,\n",
    "    batch_size=64,\n",
    "    show_progress_bar=True,\n",
    "    convert_to_numpy=True,\n",
    "    normalize_embeddings=True\n",
    ")  # shape: (n_users, 384)\n",
    "\n",
    "# save for reuse (avoid recomputing)\n",
    "np.save(\"okcupid_sbert_embeddings.npy\", embeddings)"
   ]
  },
  {
   "cell_type": "code",
   "execution_count": 22,
   "id": "951dabeb-247a-4da6-bb37-2340fa036cce",
   "metadata": {},
   "outputs": [
    {
     "data": {
      "text/html": [
       "<div>\n",
       "<style scoped>\n",
       "    .dataframe tbody tr th:only-of-type {\n",
       "        vertical-align: middle;\n",
       "    }\n",
       "\n",
       "    .dataframe tbody tr th {\n",
       "        vertical-align: top;\n",
       "    }\n",
       "\n",
       "    .dataframe thead th {\n",
       "        text-align: right;\n",
       "    }\n",
       "</style>\n",
       "<table border=\"1\" class=\"dataframe\">\n",
       "  <thead>\n",
       "    <tr style=\"text-align: right;\">\n",
       "      <th></th>\n",
       "      <th>user_id</th>\n",
       "      <th>age</th>\n",
       "      <th>sex</th>\n",
       "      <th>orientation</th>\n",
       "      <th>location</th>\n",
       "      <th>score</th>\n",
       "    </tr>\n",
       "  </thead>\n",
       "  <tbody>\n",
       "    <tr>\n",
       "      <th>44713</th>\n",
       "      <td>44713</td>\n",
       "      <td>23</td>\n",
       "      <td>m</td>\n",
       "      <td>straight</td>\n",
       "      <td>hayward, california</td>\n",
       "      <td>0.593896</td>\n",
       "    </tr>\n",
       "    <tr>\n",
       "      <th>10612</th>\n",
       "      <td>10612</td>\n",
       "      <td>28</td>\n",
       "      <td>m</td>\n",
       "      <td>gay</td>\n",
       "      <td>san francisco, california</td>\n",
       "      <td>0.564325</td>\n",
       "    </tr>\n",
       "    <tr>\n",
       "      <th>30903</th>\n",
       "      <td>30903</td>\n",
       "      <td>22</td>\n",
       "      <td>m</td>\n",
       "      <td>straight</td>\n",
       "      <td>novato, california</td>\n",
       "      <td>0.560441</td>\n",
       "    </tr>\n",
       "    <tr>\n",
       "      <th>31197</th>\n",
       "      <td>31197</td>\n",
       "      <td>20</td>\n",
       "      <td>f</td>\n",
       "      <td>straight</td>\n",
       "      <td>berkeley, california</td>\n",
       "      <td>0.559427</td>\n",
       "    </tr>\n",
       "    <tr>\n",
       "      <th>23695</th>\n",
       "      <td>23695</td>\n",
       "      <td>21</td>\n",
       "      <td>m</td>\n",
       "      <td>straight</td>\n",
       "      <td>san francisco, california</td>\n",
       "      <td>0.559414</td>\n",
       "    </tr>\n",
       "  </tbody>\n",
       "</table>\n",
       "</div>"
      ],
      "text/plain": [
       "       user_id  age sex orientation                   location     score\n",
       "44713    44713   23   m    straight        hayward, california  0.593896\n",
       "10612    10612   28   m         gay  san francisco, california  0.564325\n",
       "30903    30903   22   m    straight         novato, california  0.560441\n",
       "31197    31197   20   f    straight       berkeley, california  0.559427\n",
       "23695    23695   21   m    straight  san francisco, california  0.559414"
      ]
     },
     "execution_count": 22,
     "metadata": {},
     "output_type": "execute_result"
    }
   ],
   "source": [
    "from numpy.linalg import norm\n",
    "\n",
    "E = embeddings  # alias\n",
    "\n",
    "def top_k_semantic_neighbors(user_id, k=5):\n",
    "    # map user_id -> row index\n",
    "    i = df.index[df[\"user_id\"] == user_id][0]\n",
    "    # dot with everyone (cosine, since normalized)\n",
    "    sims = E @ E[i]\n",
    "    sims[i] = -1  # exclude self\n",
    "    # top-k indices\n",
    "    idx = np.argpartition(-sims, k)[:k]\n",
    "    idx = idx[np.argsort(-sims[idx])]\n",
    "    out = df.loc[idx, [\"user_id\",\"age\",\"sex\",\"orientation\",\"location\"]].copy()\n",
    "    out[\"score\"] = sims[idx]\n",
    "    return out\n",
    "\n",
    "top_k_semantic_neighbors(user_id=1234, k=5)\n"
   ]
  },
  {
   "cell_type": "code",
   "execution_count": null,
   "id": "1eee1695-1c92-4e5b-aa5d-478992b17ef4",
   "metadata": {},
   "outputs": [],
   "source": []
  }
 ],
 "metadata": {
  "kernelspec": {
   "display_name": "Python 3 (ipykernel)",
   "language": "python",
   "name": "python3"
  },
  "language_info": {
   "codemirror_mode": {
    "name": "ipython",
    "version": 3
   },
   "file_extension": ".py",
   "mimetype": "text/x-python",
   "name": "python",
   "nbconvert_exporter": "python",
   "pygments_lexer": "ipython3",
   "version": "3.9.13"
  }
 },
 "nbformat": 4,
 "nbformat_minor": 5
}

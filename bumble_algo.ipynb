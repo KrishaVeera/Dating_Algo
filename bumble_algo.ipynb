{
 "cells": [
  {
   "cell_type": "code",
   "execution_count": 1,
   "id": "165d33ad-c1be-40aa-a195-7275aaf102bb",
   "metadata": {},
   "outputs": [
    {
     "name": "stdout",
     "output_type": "stream",
     "text": [
      "shape: (59946, 31)\n"
     ]
    },
    {
     "name": "stderr",
     "output_type": "stream",
     "text": [
      "WARNING: You are using pip version 22.0.4; however, version 25.2 is available.\n",
      "You should consider upgrading via the 'C:\\Users\\veera\\AppData\\Local\\Microsoft\\WindowsApps\\PythonSoftwareFoundation.Python.3.9_qbz5n2kfra8p0\\python.exe -m pip install --upgrade pip' command.\n"
     ]
    },
    {
     "name": "stdout",
     "output_type": "stream",
     "text": [
      "QUERY user 1234 | age 31 | m straight | palo alto, california\n",
      "------------------------------------------------------------------------------------------\n",
      "hello! thanks for stopping by! i hope you enjoy yourself!  i am extremely financially responsible and nice! need a new kidney? i'll give you mine! if the doctor won't let us do that, i'll just buy you a new one! no expense is too much for you!  i definitely have skinny genes! rea...\n",
      "\n",
      "=== Matches ===\n",
      "\n",
      "user 44713 | age 23 | m straight | hayward, california | score=0.594\n",
      "hey my name is jacob i'm a die hard raider! lol i work as a massage therapist at chiropractic offices and my personal clients i do some personal tranning generally weight loss, nutrition, and hypertrophy. i'm currently attending ohlone college working on a physical therapy assist...\n",
      "------------------------------------------------------------------------------------------\n",
      "user 10612 | age 28 | m gay | san francisco, california | score=0.564\n",
      "high energy goofy nerd-jock-goofball type here. often compared to stifler from american pie. im always cracking a joke on someone or something and im a guaranteed good time. i am very easy to get along with once you get to know me. sometimes the high energy may come off like bull...\n",
      "------------------------------------------------------------------------------------------\n",
      "user 30903 | age 22 | m straight | novato, california | score=0.560\n",
      "first off, i hate the \"body type\" thing in the details thing bcz there is no in between for jacked and a little extra. i would call myself bulky or buff, or giant maybe. you should like big guys if you think you're interested in me. 6'4\" and 255 lbs. just saying. working on getti...\n",
      "------------------------------------------------------------------------------------------\n",
      "user 31197 | age 20 | f straight | berkeley, california | score=0.559\n",
      "i like to run, lift, dance, box, practice wushu, and olympic lift. i'm a carefree spirit that believes in having fun and enjoying every moment. i fell in love with guatemala summer '11 and went back again december '11. i plan on going back once or twice a year from here on out. n...\n",
      "------------------------------------------------------------------------------------------\n",
      "user 23695 | age 21 | m straight | san francisco, california | score=0.559\n",
      "oh i suck at these things. uhm. i'm 21 years old living in the best city in the world, san franfuckingcisco. i'm a super easy going person, i try my best to get along with everyone. i'm kind of reserved at first, but once the ice is broken, the fun begins. i hate drama with peopl...\n",
      "------------------------------------------------------------------------------------------\n",
      "coords in df: True True\n",
      "                          location        lat         lon\n",
      "0  south san francisco, california  37.653540 -122.416866\n",
      "1              oakland, california  37.804456 -122.271356\n",
      "2        san francisco, california  37.779259 -122.419329\n",
      "3             berkeley, california  37.870839 -122.272863\n",
      "4        san francisco, california  37.779259 -122.419329\n",
      "coords in tmp: True True\n",
      "   user_id        lat         lon\n",
      "0    44713  37.668821 -122.080796\n",
      "1    10612  37.779259 -122.419329\n",
      "2    30903  38.106198 -122.568119\n",
      "3    31197  37.870839 -122.272863\n",
      "4    23695  37.779259 -122.419329\n",
      "Base size: 7000\n",
      "Unfiltered: 7000 | After location filter (≤50 km): 6044\n",
      "Diet| before: 7000 → after: 6223\n",
      "Drinks | before: 7000 → after: 7000 (strict=False)\n",
      "Smokes | before: 7000 → after: 6731 (strict=False)\n",
      "Drugs  | before: 7000 → after: 6152 (strict=True)\n",
      "{'base': 7000, 'diet_only': 6223, 'drinks_only': 7000, 'smokes_only': 6731, 'drugs_only': 6152}\n",
      "Start pool: 5000 (max_candidates=5000)\n",
      "After orientation: 2023\n",
      "Unfiltered: 2023 | After location filter (≤50 km): 1717\n",
      "After location (≤50 km): 1717\n",
      "After age rule: 1342\n",
      "Diet| before: 1342 → after: 1152\n",
      "After diet: 1152\n",
      "Drinks | before: 1152 → after: 1152 (strict=False)\n",
      "After drinks (strict=False): 1152\n",
      "Smokes | before: 1152 → after: 1117 (strict=False)\n",
      "After smokes (strict=False): 1117\n",
      "Drugs  | before: 1117 → after: 1008 (strict=True)\n",
      "After drugs (strict=True): 1008\n",
      "Start pool: 5000 (max_candidates=5000)\n",
      "After orientation: 2023\n",
      "Unfiltered: 2023 | After location filter (≤50 km): 1717\n",
      "After location (≤50 km): 1717\n",
      "After age rule: 1342\n",
      "Diet| before: 1342 → after: 1152\n",
      "After diet: 1152\n",
      "Drinks | before: 1152 → after: 1152 (strict=False)\n",
      "After drinks (strict=False): 1152\n",
      "Smokes | before: 1152 → after: 1117 (strict=False)\n",
      "After smokes (strict=False): 1117\n",
      "Drugs  | before: 1117 → after: 1008 (strict=True)\n",
      "After drugs (strict=True): 1008\n",
      "df shape: (59946, 39)\n",
      "have get_matches? True\n"
     ]
    }
   ],
   "source": [
    "LIGHT_IMPORT = True\n",
    "\n",
    "%run -i \"Calc_Embeddings_Model Training.ipynb\"\n",
    "\n",
    "# quick sanity checks\n",
    "print(\"df shape:\", df.shape if 'df' in globals() else 'df missing')\n",
    "print(\"have get_matches?\", 'get_matches' in globals())"
   ]
  },
  {
   "cell_type": "code",
   "execution_count": 2,
   "id": "7f8b64c9-7ebe-4de3-b233-7cdcf13ba994",
   "metadata": {},
   "outputs": [
    {
     "name": "stdout",
     "output_type": "stream",
     "text": [
      "have compute_component_scores? True\n"
     ]
    }
   ],
   "source": [
    "print(\"have compute_component_scores?\", 'compute_component_scores' in globals())"
   ]
  },
  {
   "cell_type": "code",
   "execution_count": 3,
   "id": "948707be-76f6-45f3-8c47-0b6d2066b0b0",
   "metadata": {},
   "outputs": [],
   "source": [
    "# ==== BUMBLE CONFIG ====\n",
    "\n",
    "# Candidate pool / retrieval\n",
    "BUMBLE_POOL_K      = 5000    # how many candidates to fetch from get_matches for the user\n",
    "BUMBLE_MAX_KM      = 50      # geo radius for get_matches\n",
    "BUMBLE_TOP_K       = 20      # how many recs to return\n",
    "\n",
    "# Scoring blend (used later with compute_component_scores output)\n",
    "# We'll combine: text_sim, age_score, lifestyle_score, loc_score\n",
    "BUMBLE_WEIGHTS = {\n",
    "    \"text\": 0.70,   # semantic similarity (or 'score' mapped to text_sim)\n",
    "    \"age\":  0.10,   # age compatibility\n",
    "    \"life\": 0.15,   # lifestyle alignment (drinks/smokes/drugs/diet if available)\n",
    "    \"loc\":  0.05,   # distance score\n",
    "}\n",
    "\n",
    "# Messaging behavior\n",
    "BUMBLE_OPENER_N          = 3       # how many suggested openers to generate per match\n",
    "\n",
    "# Reproducibility for any sampling we do in this notebook\n",
    "BUMBLE_RANDOM_SEED = 123"
   ]
  },
  {
   "cell_type": "code",
   "execution_count": 6,
   "id": "718e5923-6065-494d-a82f-1bab2650eff3",
   "metadata": {},
   "outputs": [],
   "source": [
    "def ensure_text_sim(cands: pd.DataFrame) -> pd.DataFrame:\n",
    "    c = cands.copy()\n",
    "    if \"text_sim\" not in c.columns and \"score\" in c.columns:\n",
    "        c[\"text_sim\"] = c[\"score\"]\n",
    "    c[\"text_sim\"] = c[\"text_sim\"].fillna(0).clip(lower=0)\n",
    "    return c"
   ]
  },
  {
   "cell_type": "code",
   "execution_count": null,
   "id": "8527d1f0-9d7a-461b-bbd3-d484640db867",
   "metadata": {},
   "outputs": [],
   "source": [
    "def bumble_rank_basic(user_id: int,k: int = BUMBLE_TOP_K,pool_k: int = BUMBLE_POOL_K,\n",
    "                      max_km: float = BUMBLE_MAX_KM,weights: dict | None = None) -> pd.DataFrame:\n",
    "    \"\"\"\n",
    "    1) Pull candidates with hard gates via get_matches.\n",
    "    2) compute_component_scores to get text/age/lifestyle/loc scores.\n",
    "    3) Blend into bumble_score using your apply_weights if available (or manual fallback).\n",
    "    4) Return top-k ranked table.\n",
    "    \"\"\"\n",
    "    # 1) candidate pool (hard filters only)\n",
    "    cands = get_matches(user_id=user_id, k=pool_k,use_orientation=True, use_location=True, max_km=max_km,\n",
    "        use_age=True, use_diet=False, use_drinks=False, use_smokes=False, use_drugs=False,\n",
    "        drinks_strict=False, smokes_strict=False, drugs_strict=False, allow_missing=True).copy()\n",
    "\n",
    "    # 2) component scores\n",
    "    cands = compute_component_scores(user_id=user_id, cands=cands, max_km=max_km,\n",
    "        drinks_strict=False, smokes_strict=False, drugs_strict=False, allow_missing=True)\n",
    "    cands = ensure_text_sim(cands)\n",
    "\n",
    "    # 3) blend to final score\n",
    "    ranked = apply_weights(cands, w_text=weights[\"text\"], w_age=weights[\"age\"],w_life=weights[\"life\"], \n",
    "                           w_loc=weights[\"loc\"]).copy()\n",
    "\n",
    "    # ensure expected columns exist\n",
    "    need_cols = [\"user_id\",\"final_score\",\"text_sim\",\"age_score\",\"lifestyle_score\",\"loc_score\",\n",
    "                 \"distance_km\",\"location\",\"age\",\"sex\",\"orientation\"]\n",
    "    rename final-score to bumble score\n",
    "    for c in need_cols:\n",
    "        if c not in ranked.columns:\n",
    "            ranked[c] = np.nan\n",
    "\n",
    "    return ranked[need_cols].sort_values(\"bumble_score\", ascending=False).head(k).reset_index(drop=True)"
   ]
  }
 ],
 "metadata": {
  "kernelspec": {
   "display_name": "Python 3 (ipykernel)",
   "language": "python",
   "name": "python3"
  },
  "language_info": {
   "codemirror_mode": {
    "name": "ipython",
    "version": 3
   },
   "file_extension": ".py",
   "mimetype": "text/x-python",
   "name": "python",
   "nbconvert_exporter": "python",
   "pygments_lexer": "ipython3",
   "version": "3.9.13"
  }
 },
 "nbformat": 4,
 "nbformat_minor": 5
}
